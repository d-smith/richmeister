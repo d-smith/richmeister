{
 "cells": [
  {
   "cell_type": "markdown",
   "metadata": {},
   "source": [
    "# Richmeister Integration Test Setup\n",
    "\n",
    "This book allows the installation of test infrastructure, including tables in two regions and installation and configuration of the replication functions for multi-master replication of the tables.\n",
    "\n",
    "## Asset Deployment"
   ]
  },
  {
   "cell_type": "code",
   "execution_count": null,
   "metadata": {
    "collapsed": false
   },
   "outputs": [],
   "source": [
    "# Deploy to the east region\n",
    "import os\n",
    "deploy_east = os.environ['DEPLOY_BUCKET_EAST']"
   ]
  },
  {
   "cell_type": "code",
   "execution_count": null,
   "metadata": {
    "collapsed": false
   },
   "outputs": [],
   "source": [
    "%%script env DEPLOY_BUCKET=\"$deploy_east\" bash\n",
    "cd ../../s2fq/\n",
    "make package\n",
    "make deploy"
   ]
  },
  {
   "cell_type": "code",
   "execution_count": null,
   "metadata": {
    "collapsed": false
   },
   "outputs": [],
   "source": [
    "%%script env DEPLOY_BUCKET=\"$deploy_east\" bash\n",
    "cd ../../fq2ddb/\n",
    "make package\n",
    "make deploy"
   ]
  },
  {
   "cell_type": "code",
   "execution_count": null,
   "metadata": {
    "collapsed": true
   },
   "outputs": [],
   "source": [
    "# Deploy to the west\n",
    "deploy_west = os.environ['DEPLOY_BUCKET_WEST']"
   ]
  },
  {
   "cell_type": "code",
   "execution_count": null,
   "metadata": {
    "collapsed": false
   },
   "outputs": [],
   "source": [
    "%%script env DEPLOY_BUCKET=\"$deploy_west\" bash\n",
    "cd ../../s2fq/\n",
    "make package\n",
    "make deploy"
   ]
  },
  {
   "cell_type": "code",
   "execution_count": null,
   "metadata": {
    "collapsed": false
   },
   "outputs": [],
   "source": [
    "%%script env DEPLOY_BUCKET=\"$deploy_west\" bash\n",
    "cd ../../fq2ddb/\n",
    "make package\n",
    "make deploy"
   ]
  },
  {
   "cell_type": "markdown",
   "metadata": {},
   "source": [
    "## Test Table Creation"
   ]
  },
  {
   "cell_type": "code",
   "execution_count": null,
   "metadata": {
    "collapsed": true
   },
   "outputs": [],
   "source": [
    "import boto3\n",
    "\n",
    "ddb_east = boto3.client('dynamodb', region_name='us-east-1')\n",
    "ddb_west = boto3.client('dynamodb', region_name='us-west-2')\n",
    "\n",
    "table_name = 'PKTestTable'"
   ]
  },
  {
   "cell_type": "code",
   "execution_count": null,
   "metadata": {
    "collapsed": false
   },
   "outputs": [],
   "source": [
    "create_table_east_response = ddb_east.create_table(\n",
    "    TableName=table_name,\n",
    "    AttributeDefinitions=[\n",
    "        {\n",
    "            'AttributeName': 'Id',\n",
    "            'AttributeType': 'S'\n",
    "        },\n",
    "    ],\n",
    "    KeySchema=[\n",
    "        {\n",
    "            'AttributeName': 'Id',\n",
    "            'KeyType': 'HASH'\n",
    "        },\n",
    "    ],\n",
    "    ProvisionedThroughput={\n",
    "        'ReadCapacityUnits': 1,\n",
    "        'WriteCapacityUnits': 1\n",
    "    },\n",
    "    StreamSpecification={\n",
    "        'StreamEnabled': True,\n",
    "        'StreamViewType': 'NEW_AND_OLD_IMAGES'\n",
    "    }\n",
    ")\n",
    "\n",
    "print create_table_east_response"
   ]
  },
  {
   "cell_type": "code",
   "execution_count": null,
   "metadata": {
    "collapsed": false
   },
   "outputs": [],
   "source": [
    "table_east_stream = create_table_east_response['TableDescription']['LatestStreamArn']\n",
    "print table_east_stream"
   ]
  },
  {
   "cell_type": "code",
   "execution_count": null,
   "metadata": {
    "collapsed": false
   },
   "outputs": [],
   "source": [
    "create_table_west_response = ddb_west.create_table(\n",
    "    TableName=table_name,\n",
    "    AttributeDefinitions=[\n",
    "        {\n",
    "            'AttributeName': 'Id',\n",
    "            'AttributeType': 'S'\n",
    "        },\n",
    "    ],\n",
    "    KeySchema=[\n",
    "        {\n",
    "            'AttributeName': 'Id',\n",
    "            'KeyType': 'HASH'\n",
    "        },\n",
    "    ],\n",
    "    ProvisionedThroughput={\n",
    "        'ReadCapacityUnits': 1,\n",
    "        'WriteCapacityUnits': 1\n",
    "    },\n",
    "    StreamSpecification={\n",
    "        'StreamEnabled': True,\n",
    "        'StreamViewType': 'NEW_AND_OLD_IMAGES'\n",
    "    }\n",
    ")\n",
    "\n",
    "print create_table_west_response"
   ]
  },
  {
   "cell_type": "code",
   "execution_count": null,
   "metadata": {
    "collapsed": false
   },
   "outputs": [],
   "source": [
    "table_west_stream = create_table_west_response['TableDescription']['LatestStreamArn']\n",
    "print table_west_stream"
   ]
  },
  {
   "cell_type": "markdown",
   "metadata": {},
   "source": [
    "## Install Stream to Queue Stacks"
   ]
  },
  {
   "cell_type": "code",
   "execution_count": null,
   "metadata": {
    "collapsed": true
   },
   "outputs": [],
   "source": [
    "cf_east = boto3.client('cloudformation', region_name='us-east-1')\n",
    "cf_west = boto3.client('cloudformation', region_name='us-west-2')\n",
    "\n",
    "s2q_east_stack = 's2qEast'\n",
    "s2q_west_stack = 's2qWest'"
   ]
  },
  {
   "cell_type": "code",
   "execution_count": null,
   "metadata": {
    "collapsed": false
   },
   "outputs": [],
   "source": [
    "# East\n",
    "template_url = 'https://s3.amazonaws.com/' + deploy_east + '/s2fq.yml'\n",
    "\n",
    "stack_east = cf_east.create_stack(\n",
    "    StackName=s2q_east_stack,\n",
    "    TemplateURL=template_url,\n",
    "    Parameters=[\n",
    "        {\n",
    "            'ParameterKey': 'TableName',\n",
    "            'ParameterValue': table_name\n",
    "        },\n",
    "        {\n",
    "            'ParameterKey': 'CodeBucketName',\n",
    "            'ParameterValue': deploy_east\n",
    "        },\n",
    "        {\n",
    "            'ParameterKey': 'StreamArn',\n",
    "            'ParameterValue': table_east_stream\n",
    "        }\n",
    "    ],\n",
    "    Capabilities=[\n",
    "        'CAPABILITY_IAM',\n",
    "    ]\n",
    ")\n",
    "\n",
    "print stack_east"
   ]
  },
  {
   "cell_type": "code",
   "execution_count": null,
   "metadata": {
    "collapsed": false
   },
   "outputs": [],
   "source": [
    "# West\n",
    "template_url = 'https://s3-us-west-2.amazonaws.com/' + deploy_west + '/s2fq.yml'\n",
    "\n",
    "stack_west = cf_west.create_stack(\n",
    "    StackName=s2q_west_stack,\n",
    "    TemplateURL=template_url,\n",
    "    Parameters=[\n",
    "        {\n",
    "            'ParameterKey': 'TableName',\n",
    "            'ParameterValue': table_name\n",
    "        },\n",
    "        {\n",
    "            'ParameterKey': 'CodeBucketName',\n",
    "            'ParameterValue': deploy_west\n",
    "        },\n",
    "        {\n",
    "            'ParameterKey': 'StreamArn',\n",
    "            'ParameterValue': table_west_stream\n",
    "        }\n",
    "    ],\n",
    "    Capabilities=[\n",
    "        'CAPABILITY_IAM',\n",
    "    ]\n",
    ")\n",
    "\n",
    "print stack_west"
   ]
  },
  {
   "cell_type": "code",
   "execution_count": null,
   "metadata": {
    "collapsed": false
   },
   "outputs": [],
   "source": [
    "# Wait for stack creation to complete\n",
    "\n",
    "print 'waiting for east stack complete...'\n",
    "waiter = cf_east.get_waiter('stack_create_complete')\n",
    "waiter.wait(\n",
    "    StackName=s2q_east_stack\n",
    ")\n",
    "\n",
    "print 'waiting for west stack complete...'\n",
    "waiter = cf_west.get_waiter('stack_create_complete')\n",
    "waiter.wait(\n",
    "    StackName=s2q_west_stack\n",
    ")"
   ]
  },
  {
   "cell_type": "markdown",
   "metadata": {},
   "source": [
    "## Install Copy to Remote Region Stacks"
   ]
  },
  {
   "cell_type": "code",
   "execution_count": null,
   "metadata": {
    "collapsed": true
   },
   "outputs": [],
   "source": [
    "fq2ddb_east_stack_name = 'fq2ddbEast'\n",
    "fq2ddb_west_stack_name = 'fq2ddbWest'"
   ]
  },
  {
   "cell_type": "code",
   "execution_count": null,
   "metadata": {
    "collapsed": false
   },
   "outputs": [],
   "source": [
    "response = cf_east.describe_stacks(\n",
    "    StackName=s2q_east_stack\n",
    ")\n",
    "\n",
    "east_outputs = response['Stacks'][0]['Outputs']\n",
    "east_queue = [d for d in east_outputs if d['OutputKey'] == 'QueueName'][0]['OutputValue']\n",
    "print east_queue\n",
    "\n",
    "east_queue_url = [d for d in east_outputs if d['OutputKey'] == 'QueueUrl'][0]['OutputValue']\n",
    "print east_queue_url"
   ]
  },
  {
   "cell_type": "code",
   "execution_count": null,
   "metadata": {
    "collapsed": false
   },
   "outputs": [],
   "source": [
    "# East\n",
    "template_url = 'https://s3.amazonaws.com/' + deploy_east + '/fq2ddb.yml'\n",
    "\n",
    "fq2ddb_stack_east = cf_east.create_stack(\n",
    "    StackName=fq2ddb_east_stack_name,\n",
    "    TemplateURL=template_url,\n",
    "    Parameters=[\n",
    "        {\n",
    "            'ParameterKey': 'CodeBucketName',\n",
    "            'ParameterValue': deploy_east\n",
    "        },\n",
    "        {\n",
    "            'ParameterKey': 'QueueUrl',\n",
    "            'ParameterValue': east_queue_url\n",
    "        },\n",
    "        {\n",
    "            'ParameterKey': 'QueueName',\n",
    "            'ParameterValue': east_queue\n",
    "        },\n",
    "        {\n",
    "            'ParameterKey': 'DestinationTable',\n",
    "            'ParameterValue': table_name\n",
    "        },\n",
    "        {\n",
    "            'ParameterKey': 'DestinationRegion',\n",
    "            'ParameterValue': 'us-west-2'\n",
    "        },\n",
    "        {\n",
    "            'ParameterKey': 'ScheduleRuleState',\n",
    "            'ParameterValue': 'DISABLED'\n",
    "        },\n",
    "        {\n",
    "            'ParameterKey':'FnTimeout',\n",
    "            'ParameterValue': '10'  #For testing set it low to speed up the unit tests.\n",
    "        }\n",
    "    ],\n",
    "    Capabilities=[\n",
    "        'CAPABILITY_IAM',\n",
    "    ]\n",
    ")\n",
    "\n",
    "print fq2ddb_stack_east"
   ]
  },
  {
   "cell_type": "code",
   "execution_count": null,
   "metadata": {
    "collapsed": false
   },
   "outputs": [],
   "source": [
    "response = cf_west.describe_stacks(\n",
    "    StackName=s2q_west_stack\n",
    ")\n",
    "\n",
    "west_outputs = response['Stacks'][0]['Outputs']\n",
    "west_queue = [d for d in west_outputs if d['OutputKey'] == 'QueueName'][0]['OutputValue']\n",
    "print west_queue\n",
    "\n",
    "west_queue_url = [d for d in west_outputs if d['OutputKey'] == 'QueueUrl'][0]['OutputValue']\n",
    "print west_queue_url"
   ]
  },
  {
   "cell_type": "code",
   "execution_count": null,
   "metadata": {
    "collapsed": false
   },
   "outputs": [],
   "source": [
    "# West\n",
    "template_url = 'https://s3.amazonaws.com/' + deploy_west + '/fq2ddb.yml'\n",
    "\n",
    "fq2ddb_stack_west = cf_west.create_stack(\n",
    "    StackName=fq2ddb_west_stack_name,\n",
    "    TemplateURL=template_url,\n",
    "    Parameters=[\n",
    "        {\n",
    "            'ParameterKey': 'CodeBucketName',\n",
    "            'ParameterValue': deploy_west\n",
    "        },\n",
    "        {\n",
    "            'ParameterKey': 'QueueUrl',\n",
    "            'ParameterValue': west_queue_url\n",
    "        },\n",
    "        {\n",
    "            'ParameterKey': 'QueueName',\n",
    "            'ParameterValue': west_queue\n",
    "        },\n",
    "        {\n",
    "            'ParameterKey': 'DestinationTable',\n",
    "            'ParameterValue': table_name\n",
    "        },\n",
    "        {\n",
    "            'ParameterKey': 'DestinationRegion',\n",
    "            'ParameterValue': 'us-east-1'\n",
    "        },\n",
    "        {\n",
    "            'ParameterKey': 'ScheduleRuleState',\n",
    "            'ParameterValue': 'DISABLED'\n",
    "        }               \n",
    "    ],\n",
    "    Capabilities=[\n",
    "        'CAPABILITY_IAM',\n",
    "    ]\n",
    ")\n",
    "\n",
    "print fq2ddb_stack_west"
   ]
  },
  {
   "cell_type": "code",
   "execution_count": null,
   "metadata": {
    "collapsed": false
   },
   "outputs": [],
   "source": [
    "print 'waiting for east stack complete...'\n",
    "waiter = cf_east.get_waiter('stack_create_complete')\n",
    "waiter.wait(\n",
    "    StackName=fq2ddb_east_stack_name\n",
    ")\n",
    "\n",
    "print 'waiting for west stack complete...'\n",
    "waiter = cf_west.get_waiter('stack_create_complete')\n",
    "waiter.wait(\n",
    "    StackName=fq2ddb_west_stack_name\n",
    ")\n",
    "\n",
    "print 'ready to rock'"
   ]
  },
  {
   "cell_type": "markdown",
   "metadata": {},
   "source": [
    "## Run Integration Tests\n",
    "\n",
    "This assumes you have [radish](http://radish-bdd.io/) installed.\n",
    "\n",
    "This also assumes you have executed a setenv prior to running this book that defines:\n",
    "\n",
    "* AWS_DEFAULT_PROFILE\n",
    "* AWS_DEFAULT_REGION\n",
    "* https_proxy\n",
    "* DEPLOY_BUCKET_EAST\n",
    "* DEPLOY_BUCKET_WEST\n",
    "\n",
    "If you ran the above set up ok then you should be good to go"
   ]
  },
  {
   "cell_type": "code",
   "execution_count": null,
   "metadata": {
    "collapsed": false
   },
   "outputs": [],
   "source": [
    "response = cf_east.describe_stacks(\n",
    "    StackName=fq2ddb_east_stack_name\n",
    ")\n",
    "\n",
    "east_copy_outputs = response['Stacks'][0]['Outputs']\n",
    "\n",
    "east_copy_fn = [d for d in east_copy_outputs if d['OutputKey'] == 'StackFunctionName'][0]['OutputValue']\n",
    "\n",
    "print east_copy_fn"
   ]
  },
  {
   "cell_type": "code",
   "execution_count": null,
   "metadata": {
    "collapsed": false
   },
   "outputs": [],
   "source": [
    "%%script env LAMBDA_FN=\"$east_copy_fn\" bash\n",
    "radish InsertReplication.feature"
   ]
  },
  {
   "cell_type": "code",
   "execution_count": null,
   "metadata": {
    "collapsed": false
   },
   "outputs": [],
   "source": [
    "%%script env LAMBDA_FN=\"$east_copy_fn\" bash\n",
    "radish ModifySetup.feature"
   ]
  },
  {
   "cell_type": "code",
   "execution_count": null,
   "metadata": {
    "collapsed": false
   },
   "outputs": [],
   "source": [
    "%%script env LAMBDA_FN=\"$east_copy_fn\" bash\n",
    "radish ModifyReplication.feature"
   ]
  },
  {
   "cell_type": "code",
   "execution_count": null,
   "metadata": {
    "collapsed": false
   },
   "outputs": [],
   "source": [
    "%%script env LAMBDA_FN=\"$east_copy_fn\" bash\n",
    "radish DeleteReplication.feature"
   ]
  },
  {
   "cell_type": "markdown",
   "metadata": {},
   "source": [
    "## Utilities"
   ]
  },
  {
   "cell_type": "markdown",
   "metadata": {},
   "source": [
    "### Invoking the Copy Lambda\n",
    "\n",
    "Useful for troubleshooting, clean up stuff, messing around"
   ]
  },
  {
   "cell_type": "code",
   "execution_count": null,
   "metadata": {
    "collapsed": false
   },
   "outputs": [],
   "source": [
    "lambda_east = boto3.client('lambda')\n",
    "\n",
    "response = lambda_east.invoke(\n",
    "    FunctionName=east_copy_fn,\n",
    "    LogType='Tail'\n",
    ")\n",
    "\n",
    "print response"
   ]
  },
  {
   "cell_type": "markdown",
   "metadata": {},
   "source": [
    "### Get an Item\n",
    "\n",
    "Useful for troubleshooting"
   ]
  },
  {
   "cell_type": "code",
   "execution_count": null,
   "metadata": {
    "collapsed": false
   },
   "outputs": [],
   "source": [
    "response = ddb_east.get_item(\n",
    "    TableName=table_name,\n",
    "    Key={\n",
    "        \"Id\": {\n",
    "            \"S\": 'b1'\n",
    "        }\n",
    "    }\n",
    ")\n",
    "\n",
    "print response\n",
    "print 'Item' in response\n",
    "item = response['Item']\n",
    "remote_ts = item['ts']['N']\n",
    "print remote_ts\n",
    "remote_wid = item['wid']['S']\n",
    "print remote_wid\n",
    "print 'replicate' in item"
   ]
  },
  {
   "cell_type": "markdown",
   "metadata": {},
   "source": [
    "## Clean Out Tables"
   ]
  },
  {
   "cell_type": "code",
   "execution_count": null,
   "metadata": {
    "collapsed": false
   },
   "outputs": [],
   "source": [
    "# Delete the items in the non-replicated region, and let the remote region replicate the delete to the primary\n",
    "# region\n",
    "response = ddb_west.scan(\n",
    "    TableName=table_name\n",
    ")\n",
    "\n",
    "print response\n",
    "\n",
    "if 'Items' in response:\n",
    "    scanned_items = response['Items']\n",
    "    print scanned_items\n",
    "\n",
    "    for item in scanned_items:\n",
    "        id = item['Id']\n",
    "        response = ddb_west.delete_item(\n",
    "            TableName=table_name,\n",
    "            Key={\n",
    "                'Id': id\n",
    "            }\n",
    "        )\n",
    "\n",
    "        print response\n",
    "else:\n",
    "    print 'Nothing to delete'"
   ]
  },
  {
   "cell_type": "code",
   "execution_count": null,
   "metadata": {
    "collapsed": false
   },
   "outputs": [],
   "source": [
    "# Look for any remaining items in the east - may have some\n",
    "# leftover data due to bugs, or data not replicated (as expected)\n",
    "response = ddb_east.scan(\n",
    "    TableName=table_name\n",
    ")\n",
    "\n",
    "print response\n",
    "\n",
    "if 'Items' in response:\n",
    "    scanned_items = response['Items']\n",
    "    print scanned_items\n",
    "\n",
    "    for item in scanned_items:\n",
    "        id = item['Id']\n",
    "        print item\n",
    "        if 'replicate' in item:\n",
    "            del item['replicate']\n",
    "            print item\n",
    "\n",
    "            response = ddb_east.put_item(\n",
    "                TableName=table_name,\n",
    "                Item=item\n",
    "            )\n",
    "\n",
    "            print response\n",
    "else:\n",
    "    print 'Nothing to delete'\n",
    "    \n",
    "response = ddb_east.scan(\n",
    "    TableName=table_name\n",
    ")\n",
    "\n",
    "print response\n",
    "\n",
    "if 'Items' in response:\n",
    "    scanned_items = response['Items']\n",
    "    print scanned_items\n",
    "\n",
    "    for item in scanned_items:\n",
    "        id = item['Id']\n",
    "        response = ddb_east.delete_item(\n",
    "            TableName=table_name,\n",
    "            Key={\n",
    "                'Id': id\n",
    "            }\n",
    "        )\n",
    "\n",
    "        print response\n",
    "else:\n",
    "    print 'Nothing to delete'"
   ]
  },
  {
   "cell_type": "markdown",
   "metadata": {},
   "source": [
    "## Clean Up"
   ]
  },
  {
   "cell_type": "code",
   "execution_count": null,
   "metadata": {
    "collapsed": false
   },
   "outputs": [],
   "source": [
    "print 'destroy {}'.format(fq2ddb_east_stack_name)\n",
    "response = cf_east.delete_stack(\n",
    "    StackName=fq2ddb_east_stack_name\n",
    ")\n",
    "\n",
    "print 'destroy {}'.format(fq2ddb_west_stack_name)\n",
    "response = cf_west.delete_stack(\n",
    "    StackName=fq2ddb_west_stack_name\n",
    ")\n",
    "\n",
    "print 'waiting for east stack delete...'\n",
    "waiter = cf_east.get_waiter('stack_delete_complete')\n",
    "waiter.wait(\n",
    "    StackName=fq2ddb_east_stack_name\n",
    ")\n",
    "\n",
    "print 'waiting for west stack delete...'\n",
    "waiter = cf_west.get_waiter('stack_delete_complete')\n",
    "waiter.wait(\n",
    "    StackName=fq2ddb_west_stack_name\n",
    ")"
   ]
  },
  {
   "cell_type": "code",
   "execution_count": null,
   "metadata": {
    "collapsed": false
   },
   "outputs": [],
   "source": [
    "print 'destroy {}'.format(s2q_east_stack)\n",
    "response = cf_east.delete_stack(\n",
    "    StackName=s2q_east_stack\n",
    ")\n",
    "\n",
    "print 'destroy {}'.format(s2q_west_stack)\n",
    "response = cf_west.delete_stack(\n",
    "    StackName=s2q_west_stack\n",
    ")\n",
    "\n",
    "print 'waiting for east stack delete...'\n",
    "waiter = cf_east.get_waiter('stack_delete_complete')\n",
    "waiter.wait(\n",
    "    StackName=s2q_east_stack\n",
    ")\n",
    "\n",
    "print 'waiting for west stack delete...'\n",
    "waiter = cf_west.get_waiter('stack_delete_complete')\n",
    "waiter.wait(\n",
    "    StackName=s2q_west_stack\n",
    ")"
   ]
  },
  {
   "cell_type": "code",
   "execution_count": null,
   "metadata": {
    "collapsed": false
   },
   "outputs": [],
   "source": [
    "# Delete test tables\n",
    "for client in [ddb_east, ddb_west]:\n",
    "    response = client.delete_table(\n",
    "        TableName = table_name\n",
    "    )\n",
    "    \n",
    "    print response"
   ]
  },
  {
   "cell_type": "code",
   "execution_count": null,
   "metadata": {
    "collapsed": true
   },
   "outputs": [],
   "source": []
  }
 ],
 "metadata": {
  "kernelspec": {
   "display_name": "Python 2",
   "language": "python",
   "name": "python2"
  },
  "language_info": {
   "codemirror_mode": {
    "name": "ipython",
    "version": 2
   },
   "file_extension": ".py",
   "mimetype": "text/x-python",
   "name": "python",
   "nbconvert_exporter": "python",
   "pygments_lexer": "ipython2",
   "version": "2.7.12"
  }
 },
 "nbformat": 4,
 "nbformat_minor": 0
}
