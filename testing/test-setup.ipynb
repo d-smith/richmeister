{
 "cells": [
  {
   "cell_type": "markdown",
   "metadata": {},
   "source": [
    "# Richmeister Integration Test Setup\n",
    "\n",
    "This book allows the installation of test infrastructure, including tables in two regions and installation and configuration of the replication functions for multi-master replication of the tables.\n",
    "\n",
    "## Asset Deployment"
   ]
  },
  {
   "cell_type": "code",
   "execution_count": null,
   "metadata": {
    "collapsed": false
   },
   "outputs": [],
   "source": [
    "# Deploy to the east region\n",
    "import os\n",
    "deploy_east = os.environ['DEPLOY_BUCKET_EAST']"
   ]
  },
  {
   "cell_type": "code",
   "execution_count": null,
   "metadata": {
    "collapsed": false
   },
   "outputs": [],
   "source": [
    "%%script env DEPLOY_BUCKET=\"$deploy_east\" bash\n",
    "cd ../s2fq/\n",
    "make package\n",
    "make deploy"
   ]
  },
  {
   "cell_type": "code",
   "execution_count": null,
   "metadata": {
    "collapsed": true
   },
   "outputs": [],
   "source": [
    "# Deploy to the west\n",
    "deploy_west = os.environ['DEPLOY_BUCKET_WEST']"
   ]
  },
  {
   "cell_type": "code",
   "execution_count": null,
   "metadata": {
    "collapsed": false
   },
   "outputs": [],
   "source": [
    "%%script env DEPLOY_BUCKET=\"$deploy_west\" bash\n",
    "cd ../s2fq/\n",
    "make package\n",
    "make deploy"
   ]
  },
  {
   "cell_type": "markdown",
   "metadata": {},
   "source": [
    "## Test Table Creation"
   ]
  },
  {
   "cell_type": "code",
   "execution_count": null,
   "metadata": {
    "collapsed": true
   },
   "outputs": [],
   "source": [
    "import boto3\n",
    "\n",
    "ddb_east = boto3.client('dynamodb', region_name='us-east-1')\n",
    "ddb_west = boto3.client('dynamodb', region_name='us-west-2')\n",
    "\n",
    "table_name = 'TestTable'"
   ]
  },
  {
   "cell_type": "code",
   "execution_count": null,
   "metadata": {
    "collapsed": false
   },
   "outputs": [],
   "source": [
    "create_table_east_response = ddb_east.create_table(\n",
    "    TableName=table_name,\n",
    "    AttributeDefinitions=[\n",
    "        {\n",
    "            'AttributeName': 'Id',\n",
    "            'AttributeType': 'N'\n",
    "        },\n",
    "    ],\n",
    "    KeySchema=[\n",
    "        {\n",
    "            'AttributeName': 'Id',\n",
    "            'KeyType': 'HASH'\n",
    "        },\n",
    "    ],\n",
    "    ProvisionedThroughput={\n",
    "        'ReadCapacityUnits': 1,\n",
    "        'WriteCapacityUnits': 1\n",
    "    },\n",
    "    StreamSpecification={\n",
    "        'StreamEnabled': True,\n",
    "        'StreamViewType': 'NEW_AND_OLD_IMAGES'\n",
    "    }\n",
    ")\n",
    "\n",
    "print create_table_east_response"
   ]
  },
  {
   "cell_type": "code",
   "execution_count": null,
   "metadata": {
    "collapsed": false
   },
   "outputs": [],
   "source": [
    "table_east_stream = create_table_east_response['TableDescription']['LatestStreamArn']\n",
    "print table_east_stream"
   ]
  },
  {
   "cell_type": "code",
   "execution_count": null,
   "metadata": {
    "collapsed": false
   },
   "outputs": [],
   "source": [
    "create_table_west_response = ddb_west.create_table(\n",
    "    TableName=table_name,\n",
    "    AttributeDefinitions=[\n",
    "        {\n",
    "            'AttributeName': 'Id',\n",
    "            'AttributeType': 'N'\n",
    "        },\n",
    "    ],\n",
    "    KeySchema=[\n",
    "        {\n",
    "            'AttributeName': 'Id',\n",
    "            'KeyType': 'HASH'\n",
    "        },\n",
    "    ],\n",
    "    ProvisionedThroughput={\n",
    "        'ReadCapacityUnits': 1,\n",
    "        'WriteCapacityUnits': 1\n",
    "    },\n",
    "    StreamSpecification={\n",
    "        'StreamEnabled': True,\n",
    "        'StreamViewType': 'NEW_AND_OLD_IMAGES'\n",
    "    }\n",
    ")\n",
    "\n",
    "print create_table_west_response"
   ]
  },
  {
   "cell_type": "code",
   "execution_count": null,
   "metadata": {
    "collapsed": false
   },
   "outputs": [],
   "source": [
    "table_west_stream = create_table_west_response['TableDescription']['LatestStreamArn']\n",
    "print table_west_stream"
   ]
  },
  {
   "cell_type": "markdown",
   "metadata": {},
   "source": [
    "## Install Stream to Queue Stack"
   ]
  },
  {
   "cell_type": "code",
   "execution_count": null,
   "metadata": {
    "collapsed": true
   },
   "outputs": [],
   "source": [
    "cf_east = boto3.client('cloudformation', region_name='us-east-1')\n",
    "cf_west = boto3.client('cloudformation', region_name='us-west-2')\n",
    "\n",
    "s2q_east_stack = 's2qEast'\n",
    "s2q_west_stack = 's2qWest'"
   ]
  },
  {
   "cell_type": "code",
   "execution_count": null,
   "metadata": {
    "collapsed": false
   },
   "outputs": [],
   "source": [
    "# East\n",
    "template_url = 'https://s3.amazonaws.com/' + deploy_east + '/s2fq.yml'\n",
    "\n",
    "stack_east = cf_east.create_stack(\n",
    "    StackName=s2q_east_stack,\n",
    "    TemplateURL=template_url,\n",
    "    Parameters=[\n",
    "        {\n",
    "            'ParameterKey': 'TableName',\n",
    "            'ParameterValue': table_name\n",
    "        },\n",
    "        {\n",
    "            'ParameterKey': 'CodeBucketName',\n",
    "            'ParameterValue': deploy_east\n",
    "        },\n",
    "        {\n",
    "            'ParameterKey': 'StreamArn',\n",
    "            'ParameterValue': table_east_stream\n",
    "        }\n",
    "    ],\n",
    "    Capabilities=[\n",
    "        'CAPABILITY_IAM',\n",
    "    ]\n",
    ")\n",
    "\n",
    "print stack_east"
   ]
  },
  {
   "cell_type": "code",
   "execution_count": null,
   "metadata": {
    "collapsed": false
   },
   "outputs": [],
   "source": [
    "# West\n",
    "template_url = 'https://s3-us-west-2.amazonaws.com/' + deploy_west + '/s2fq.yml'\n",
    "\n",
    "stack_west = cf_west.create_stack(\n",
    "    StackName=s2q_west_stack,\n",
    "    TemplateURL=template_url,\n",
    "    Parameters=[\n",
    "        {\n",
    "            'ParameterKey': 'TableName',\n",
    "            'ParameterValue': table_name\n",
    "        },\n",
    "        {\n",
    "            'ParameterKey': 'CodeBucketName',\n",
    "            'ParameterValue': deploy_west\n",
    "        },\n",
    "        {\n",
    "            'ParameterKey': 'StreamArn',\n",
    "            'ParameterValue': table_west_stream\n",
    "        }\n",
    "    ],\n",
    "    Capabilities=[\n",
    "        'CAPABILITY_IAM',\n",
    "    ]\n",
    ")\n",
    "\n",
    "print stack_west"
   ]
  },
  {
   "cell_type": "code",
   "execution_count": null,
   "metadata": {
    "collapsed": false
   },
   "outputs": [],
   "source": [
    "# Wait for stack creation to complete\n",
    "\n",
    "print 'waiting for east stack complete...'\n",
    "waiter = cf_east.get_waiter('stack_create_complete')\n",
    "waiter.wait(\n",
    "    StackName=s2q_east_stack\n",
    ")\n",
    "\n",
    "print 'waiting for west stack complete...'\n",
    "waiter = cf_west.get_waiter('stack_create_complete')\n",
    "waiter.wait(\n",
    "    StackName=s2q_west_stack\n",
    ")"
   ]
  },
  {
   "cell_type": "markdown",
   "metadata": {},
   "source": [
    "## Clean Up"
   ]
  },
  {
   "cell_type": "code",
   "execution_count": null,
   "metadata": {
    "collapsed": false
   },
   "outputs": [],
   "source": [
    "print 'destroy {}'.format(s2q_east_stack)\n",
    "response = cf_east.delete_stack(\n",
    "    StackName=s2q_east_stack\n",
    ")\n",
    "\n",
    "print 'destroy {}'.format(s2q_west_stack)\n",
    "response = cf_west.delete_stack(\n",
    "    StackName=s2q_west_stack\n",
    ")\n",
    "\n",
    "print 'waiting for east stack delete...'\n",
    "waiter = cf_east.get_waiter('stack_delete_complete')\n",
    "waiter.wait(\n",
    "    StackName=s2q_east_stack\n",
    ")\n",
    "\n",
    "print 'waiting for west stack delete...'\n",
    "waiter = cf_west.get_waiter('stack_delete_complete')\n",
    "waiter.wait(\n",
    "    StackName=s2q_west_stack\n",
    ")"
   ]
  },
  {
   "cell_type": "code",
   "execution_count": null,
   "metadata": {
    "collapsed": false
   },
   "outputs": [],
   "source": [
    "# Delete test tables\n",
    "for client in [ddb_east, ddb_west]:\n",
    "    response = client.delete_table(\n",
    "        TableName = table_name\n",
    "    )\n",
    "    \n",
    "    print response"
   ]
  },
  {
   "cell_type": "code",
   "execution_count": null,
   "metadata": {
    "collapsed": true
   },
   "outputs": [],
   "source": []
  }
 ],
 "metadata": {
  "kernelspec": {
   "display_name": "Python 2",
   "language": "python",
   "name": "python2"
  },
  "language_info": {
   "codemirror_mode": {
    "name": "ipython",
    "version": 2
   },
   "file_extension": ".py",
   "mimetype": "text/x-python",
   "name": "python",
   "nbconvert_exporter": "python",
   "pygments_lexer": "ipython2",
   "version": "2.7.12"
  }
 },
 "nbformat": 4,
 "nbformat_minor": 0
}
